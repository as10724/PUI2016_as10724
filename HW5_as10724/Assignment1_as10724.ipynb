{
 "cells": [
  {
   "cell_type": "markdown",
   "metadata": {
    "collapsed": true
   },
   "source": [
    "# Assignment 1:\n",
    "Test whether a gaussian model N($\\mu$, $\\sigma$) for the age distribution of citibike drivers is a sensible model, or if you can find a better fit with another distribution.\n",
    "\n",
    "Use 2 tests: KS, AD, KL, chisq (even though we have not talked about it in detail yet) to do this.\n",
    "\n",
    "Test at the Normal and a least one other distributions (e.g. Poisson, or Binomial, or Chisq, Lognormal.......)\n",
    "\n",
    "No skeleton: you are on your own!\n",
    "\n",
    "Extra credit: Divide your sample geographically: by Borrow + split Manhattan in an Uptown and a Downtown sample (use your discretion to do so, but ZIP code is a good idea) and see if you notice any differences in how the age distribution can be modeled.\n",
    " "
   ]
  },
  {
   "cell_type": "code",
   "execution_count": 2,
   "metadata": {
    "collapsed": false,
    "scrolled": true
   },
   "outputs": [
    {
     "name": "stdout",
     "output_type": "stream",
     "text": [
      "Populating the interactive namespace from numpy and matplotlib\n"
     ]
    }
   ],
   "source": [
    "# imports and setups\n",
    "import pylab as pl\n",
    "import pandas as pd\n",
    "import numpy as np\n",
    "from getCitiBikeCSV import getCitiBikeCSV\n",
    "\n",
    "%pylab inline\n",
    "\n",
    "import os\n",
    "import json"
   ]
  },
  {
   "cell_type": "code",
   "execution_count": 3,
   "metadata": {
    "collapsed": true
   },
   "outputs": [],
   "source": [
    "#efining a significant threshold for the whole exercise\n",
    "alpha = 0.05"
   ]
  },
  {
   "cell_type": "markdown",
   "metadata": {},
   "source": [
    "# I am reading in data from January 2015. It would be a good idea to use data from warmer months, since there are more riders in the warm weather and the more data the smaller the STATISTICAL NOISE. You should use data from multiple months, joining multiple datasets, thus addressing systematic errors as well"
   ]
  },
  {
   "cell_type": "code",
   "execution_count": 4,
   "metadata": {
    "collapsed": false
   },
   "outputs": [
    {
     "name": "stdout",
     "output_type": "stream",
     "text": [
      "Downloading 201506\n",
      "file in place, you can continue\n",
      "Downloading 201507\n",
      "file in place, you can continue\n",
      "Downloading 201508\n",
      "file in place, you can continue\n"
     ]
    }
   ],
   "source": [
    "datestring6 = '201506' #Using data set for month of June\n",
    "getCitiBikeCSV(datestring6)\n",
    "datestring7 = '201507' #Using data set for month of July\n",
    "getCitiBikeCSV(datestring7)\n",
    "datestring8 = '201508' #Using data set for month of June\n",
    "getCitiBikeCSV(datestring8)"
   ]
  },
  {
   "cell_type": "code",
   "execution_count": 5,
   "metadata": {
    "collapsed": false
   },
   "outputs": [
    {
     "data": {
      "text/html": [
       "<div>\n",
       "<table border=\"1\" class=\"dataframe\">\n",
       "  <thead>\n",
       "    <tr style=\"text-align: right;\">\n",
       "      <th></th>\n",
       "      <th>tripduration</th>\n",
       "      <th>starttime</th>\n",
       "      <th>stoptime</th>\n",
       "      <th>start station id</th>\n",
       "      <th>start station name</th>\n",
       "      <th>start station latitude</th>\n",
       "      <th>start station longitude</th>\n",
       "      <th>end station id</th>\n",
       "      <th>end station name</th>\n",
       "      <th>end station latitude</th>\n",
       "      <th>end station longitude</th>\n",
       "      <th>bikeid</th>\n",
       "      <th>usertype</th>\n",
       "      <th>birth year</th>\n",
       "      <th>gender</th>\n",
       "    </tr>\n",
       "  </thead>\n",
       "  <tbody>\n",
       "    <tr>\n",
       "      <th>0</th>\n",
       "      <td>1338</td>\n",
       "      <td>6/1/2015 0:00</td>\n",
       "      <td>6/1/2015 0:22</td>\n",
       "      <td>128</td>\n",
       "      <td>MacDougal St &amp; Prince St</td>\n",
       "      <td>40.727103</td>\n",
       "      <td>-74.002971</td>\n",
       "      <td>2021</td>\n",
       "      <td>W 45 St &amp; 8 Ave</td>\n",
       "      <td>40.759291</td>\n",
       "      <td>-73.988597</td>\n",
       "      <td>20721</td>\n",
       "      <td>Subscriber</td>\n",
       "      <td>1984.0</td>\n",
       "      <td>1</td>\n",
       "    </tr>\n",
       "    <tr>\n",
       "      <th>1</th>\n",
       "      <td>290</td>\n",
       "      <td>6/1/2015 0:00</td>\n",
       "      <td>6/1/2015 0:05</td>\n",
       "      <td>438</td>\n",
       "      <td>St Marks Pl &amp; 1 Ave</td>\n",
       "      <td>40.727791</td>\n",
       "      <td>-73.985649</td>\n",
       "      <td>312</td>\n",
       "      <td>Allen St &amp; E Houston St</td>\n",
       "      <td>40.722055</td>\n",
       "      <td>-73.989111</td>\n",
       "      <td>21606</td>\n",
       "      <td>Subscriber</td>\n",
       "      <td>1997.0</td>\n",
       "      <td>1</td>\n",
       "    </tr>\n",
       "    <tr>\n",
       "      <th>2</th>\n",
       "      <td>634</td>\n",
       "      <td>6/1/2015 0:01</td>\n",
       "      <td>6/1/2015 0:11</td>\n",
       "      <td>383</td>\n",
       "      <td>Greenwich Ave &amp; Charles St</td>\n",
       "      <td>40.735238</td>\n",
       "      <td>-74.000271</td>\n",
       "      <td>388</td>\n",
       "      <td>W 26 St &amp; 10 Ave</td>\n",
       "      <td>40.749718</td>\n",
       "      <td>-74.002950</td>\n",
       "      <td>16595</td>\n",
       "      <td>Subscriber</td>\n",
       "      <td>1993.0</td>\n",
       "      <td>1</td>\n",
       "    </tr>\n",
       "    <tr>\n",
       "      <th>3</th>\n",
       "      <td>159</td>\n",
       "      <td>6/1/2015 0:01</td>\n",
       "      <td>6/1/2015 0:04</td>\n",
       "      <td>361</td>\n",
       "      <td>Allen St &amp; Hester St</td>\n",
       "      <td>40.716059</td>\n",
       "      <td>-73.991908</td>\n",
       "      <td>531</td>\n",
       "      <td>Forsyth St &amp; Broome St</td>\n",
       "      <td>40.718939</td>\n",
       "      <td>-73.992663</td>\n",
       "      <td>16949</td>\n",
       "      <td>Subscriber</td>\n",
       "      <td>1981.0</td>\n",
       "      <td>1</td>\n",
       "    </tr>\n",
       "    <tr>\n",
       "      <th>4</th>\n",
       "      <td>1233</td>\n",
       "      <td>6/1/2015 0:02</td>\n",
       "      <td>6/1/2015 0:22</td>\n",
       "      <td>382</td>\n",
       "      <td>University Pl &amp; E 14 St</td>\n",
       "      <td>40.734927</td>\n",
       "      <td>-73.992005</td>\n",
       "      <td>532</td>\n",
       "      <td>S 5 Pl &amp; S 4 St</td>\n",
       "      <td>40.710451</td>\n",
       "      <td>-73.960876</td>\n",
       "      <td>17028</td>\n",
       "      <td>Customer</td>\n",
       "      <td>NaN</td>\n",
       "      <td>0</td>\n",
       "    </tr>\n",
       "  </tbody>\n",
       "</table>\n",
       "</div>"
      ],
      "text/plain": [
       "   tripduration      starttime       stoptime  start station id  \\\n",
       "0          1338  6/1/2015 0:00  6/1/2015 0:22               128   \n",
       "1           290  6/1/2015 0:00  6/1/2015 0:05               438   \n",
       "2           634  6/1/2015 0:01  6/1/2015 0:11               383   \n",
       "3           159  6/1/2015 0:01  6/1/2015 0:04               361   \n",
       "4          1233  6/1/2015 0:02  6/1/2015 0:22               382   \n",
       "\n",
       "           start station name  start station latitude  \\\n",
       "0    MacDougal St & Prince St               40.727103   \n",
       "1         St Marks Pl & 1 Ave               40.727791   \n",
       "2  Greenwich Ave & Charles St               40.735238   \n",
       "3        Allen St & Hester St               40.716059   \n",
       "4     University Pl & E 14 St               40.734927   \n",
       "\n",
       "   start station longitude  end station id         end station name  \\\n",
       "0               -74.002971            2021          W 45 St & 8 Ave   \n",
       "1               -73.985649             312  Allen St & E Houston St   \n",
       "2               -74.000271             388         W 26 St & 10 Ave   \n",
       "3               -73.991908             531   Forsyth St & Broome St   \n",
       "4               -73.992005             532          S 5 Pl & S 4 St   \n",
       "\n",
       "   end station latitude  end station longitude  bikeid    usertype  \\\n",
       "0             40.759291             -73.988597   20721  Subscriber   \n",
       "1             40.722055             -73.989111   21606  Subscriber   \n",
       "2             40.749718             -74.002950   16595  Subscriber   \n",
       "3             40.718939             -73.992663   16949  Subscriber   \n",
       "4             40.710451             -73.960876   17028    Customer   \n",
       "\n",
       "   birth year  gender  \n",
       "0      1984.0       1  \n",
       "1      1997.0       1  \n",
       "2      1993.0       1  \n",
       "3      1981.0       1  \n",
       "4         NaN       0  "
      ]
     },
     "execution_count": 5,
     "metadata": {},
     "output_type": "execute_result"
    }
   ],
   "source": [
    "df6 = pd.read_csv(os.getenv(\"PUIDATA\") + \"/\" + datestring6 + '-citibike-tripdata.csv')\n",
    "df7 = pd.read_csv(os.getenv(\"PUIDATA\") + \"/\" + datestring7 + '-citibike-tripdata.csv')\n",
    "df8 = pd.read_csv(os.getenv(\"PUIDATA\") + \"/\" + datestring8 + '-citibike-tripdata.csv')\n",
    "joined = [df6, df7, df8]\n",
    "df1 = pd.concat(joined)\n",
    "df1.head()"
   ]
  },
  {
   "cell_type": "code",
   "execution_count": 6,
   "metadata": {
    "collapsed": false
   },
   "outputs": [
    {
     "name": "stderr",
     "output_type": "stream",
     "text": [
      "/opt/rh/anaconda/root/envs/PUI2016_Python3/lib/python3.5/site-packages/numpy/lib/function_base.py:3403: RuntimeWarning: Invalid value encountered in median\n",
      "  RuntimeWarning)\n"
     ]
    },
    {
     "data": {
      "text/html": [
       "<div>\n",
       "<table border=\"1\" class=\"dataframe\">\n",
       "  <thead>\n",
       "    <tr style=\"text-align: right;\">\n",
       "      <th></th>\n",
       "      <th>tripduration</th>\n",
       "      <th>start station id</th>\n",
       "      <th>start station latitude</th>\n",
       "      <th>start station longitude</th>\n",
       "      <th>end station id</th>\n",
       "      <th>end station latitude</th>\n",
       "      <th>end station longitude</th>\n",
       "      <th>bikeid</th>\n",
       "      <th>birth year</th>\n",
       "      <th>gender</th>\n",
       "    </tr>\n",
       "  </thead>\n",
       "  <tbody>\n",
       "    <tr>\n",
       "      <th>count</th>\n",
       "      <td>3.205939e+06</td>\n",
       "      <td>3.205939e+06</td>\n",
       "      <td>3.205939e+06</td>\n",
       "      <td>3.205939e+06</td>\n",
       "      <td>3.205939e+06</td>\n",
       "      <td>3.205939e+06</td>\n",
       "      <td>3.205939e+06</td>\n",
       "      <td>3.205939e+06</td>\n",
       "      <td>2.674181e+06</td>\n",
       "      <td>3.205939e+06</td>\n",
       "    </tr>\n",
       "    <tr>\n",
       "      <th>mean</th>\n",
       "      <td>9.674724e+02</td>\n",
       "      <td>4.818940e+02</td>\n",
       "      <td>4.073466e+01</td>\n",
       "      <td>-7.399113e+01</td>\n",
       "      <td>4.808549e+02</td>\n",
       "      <td>4.073434e+01</td>\n",
       "      <td>-7.399122e+01</td>\n",
       "      <td>1.917488e+04</td>\n",
       "      <td>1.976707e+03</td>\n",
       "      <td>1.033359e+00</td>\n",
       "    </tr>\n",
       "    <tr>\n",
       "      <th>std</th>\n",
       "      <td>6.918156e+03</td>\n",
       "      <td>4.538632e+02</td>\n",
       "      <td>1.947244e-02</td>\n",
       "      <td>1.286754e-02</td>\n",
       "      <td>4.542648e+02</td>\n",
       "      <td>1.949034e-02</td>\n",
       "      <td>1.289033e-02</td>\n",
       "      <td>2.688411e+03</td>\n",
       "      <td>1.141686e+01</td>\n",
       "      <td>6.048311e-01</td>\n",
       "    </tr>\n",
       "    <tr>\n",
       "      <th>min</th>\n",
       "      <td>6.000000e+01</td>\n",
       "      <td>7.200000e+01</td>\n",
       "      <td>4.067891e+01</td>\n",
       "      <td>-7.401713e+01</td>\n",
       "      <td>7.200000e+01</td>\n",
       "      <td>4.067891e+01</td>\n",
       "      <td>-7.401713e+01</td>\n",
       "      <td>1.452900e+04</td>\n",
       "      <td>1.885000e+03</td>\n",
       "      <td>0.000000e+00</td>\n",
       "    </tr>\n",
       "    <tr>\n",
       "      <th>25%</th>\n",
       "      <td>4.100000e+02</td>\n",
       "      <td>3.060000e+02</td>\n",
       "      <td>4.072083e+01</td>\n",
       "      <td>-7.400150e+01</td>\n",
       "      <td>3.050000e+02</td>\n",
       "      <td>4.072066e+01</td>\n",
       "      <td>-7.400155e+01</td>\n",
       "      <td>1.685200e+04</td>\n",
       "      <td>NaN</td>\n",
       "      <td>1.000000e+00</td>\n",
       "    </tr>\n",
       "    <tr>\n",
       "      <th>50%</th>\n",
       "      <td>6.650000e+02</td>\n",
       "      <td>4.150000e+02</td>\n",
       "      <td>4.073625e+01</td>\n",
       "      <td>-7.399099e+01</td>\n",
       "      <td>4.110000e+02</td>\n",
       "      <td>4.073588e+01</td>\n",
       "      <td>-7.399099e+01</td>\n",
       "      <td>1.914500e+04</td>\n",
       "      <td>NaN</td>\n",
       "      <td>1.000000e+00</td>\n",
       "    </tr>\n",
       "    <tr>\n",
       "      <th>75%</th>\n",
       "      <td>1.107000e+03</td>\n",
       "      <td>4.940000e+02</td>\n",
       "      <td>4.075020e+01</td>\n",
       "      <td>-7.398195e+01</td>\n",
       "      <td>4.920000e+02</td>\n",
       "      <td>4.074972e+01</td>\n",
       "      <td>-7.398195e+01</td>\n",
       "      <td>2.152500e+04</td>\n",
       "      <td>NaN</td>\n",
       "      <td>1.000000e+00</td>\n",
       "    </tr>\n",
       "    <tr>\n",
       "      <th>max</th>\n",
       "      <td>5.174309e+06</td>\n",
       "      <td>3.224000e+03</td>\n",
       "      <td>4.077164e+01</td>\n",
       "      <td>-7.392989e+01</td>\n",
       "      <td>3.224000e+03</td>\n",
       "      <td>4.077706e+01</td>\n",
       "      <td>-7.392989e+01</td>\n",
       "      <td>2.435600e+04</td>\n",
       "      <td>1.999000e+03</td>\n",
       "      <td>2.000000e+00</td>\n",
       "    </tr>\n",
       "  </tbody>\n",
       "</table>\n",
       "</div>"
      ],
      "text/plain": [
       "       tripduration  start station id  start station latitude  \\\n",
       "count  3.205939e+06      3.205939e+06            3.205939e+06   \n",
       "mean   9.674724e+02      4.818940e+02            4.073466e+01   \n",
       "std    6.918156e+03      4.538632e+02            1.947244e-02   \n",
       "min    6.000000e+01      7.200000e+01            4.067891e+01   \n",
       "25%    4.100000e+02      3.060000e+02            4.072083e+01   \n",
       "50%    6.650000e+02      4.150000e+02            4.073625e+01   \n",
       "75%    1.107000e+03      4.940000e+02            4.075020e+01   \n",
       "max    5.174309e+06      3.224000e+03            4.077164e+01   \n",
       "\n",
       "       start station longitude  end station id  end station latitude  \\\n",
       "count             3.205939e+06    3.205939e+06          3.205939e+06   \n",
       "mean             -7.399113e+01    4.808549e+02          4.073434e+01   \n",
       "std               1.286754e-02    4.542648e+02          1.949034e-02   \n",
       "min              -7.401713e+01    7.200000e+01          4.067891e+01   \n",
       "25%              -7.400150e+01    3.050000e+02          4.072066e+01   \n",
       "50%              -7.399099e+01    4.110000e+02          4.073588e+01   \n",
       "75%              -7.398195e+01    4.920000e+02          4.074972e+01   \n",
       "max              -7.392989e+01    3.224000e+03          4.077706e+01   \n",
       "\n",
       "       end station longitude        bikeid    birth year        gender  \n",
       "count           3.205939e+06  3.205939e+06  2.674181e+06  3.205939e+06  \n",
       "mean           -7.399122e+01  1.917488e+04  1.976707e+03  1.033359e+00  \n",
       "std             1.289033e-02  2.688411e+03  1.141686e+01  6.048311e-01  \n",
       "min            -7.401713e+01  1.452900e+04  1.885000e+03  0.000000e+00  \n",
       "25%            -7.400155e+01  1.685200e+04           NaN  1.000000e+00  \n",
       "50%            -7.399099e+01  1.914500e+04           NaN  1.000000e+00  \n",
       "75%            -7.398195e+01  2.152500e+04           NaN  1.000000e+00  \n",
       "max            -7.392989e+01  2.435600e+04  1.999000e+03  2.000000e+00  "
      ]
     },
     "execution_count": 6,
     "metadata": {},
     "output_type": "execute_result"
    }
   ],
   "source": [
    "df1.describe()"
   ]
  },
  {
   "cell_type": "code",
   "execution_count": 7,
   "metadata": {
    "collapsed": false
   },
   "outputs": [
    {
     "data": {
      "text/html": [
       "<div>\n",
       "<table border=\"1\" class=\"dataframe\">\n",
       "  <thead>\n",
       "    <tr style=\"text-align: right;\">\n",
       "      <th></th>\n",
       "      <th>tripduration</th>\n",
       "      <th>starttime</th>\n",
       "      <th>stoptime</th>\n",
       "      <th>start station id</th>\n",
       "      <th>start station name</th>\n",
       "      <th>start station latitude</th>\n",
       "      <th>start station longitude</th>\n",
       "      <th>end station id</th>\n",
       "      <th>end station name</th>\n",
       "      <th>end station latitude</th>\n",
       "      <th>end station longitude</th>\n",
       "      <th>bikeid</th>\n",
       "      <th>usertype</th>\n",
       "      <th>birth year</th>\n",
       "      <th>gender</th>\n",
       "      <th>date</th>\n",
       "    </tr>\n",
       "  </thead>\n",
       "  <tbody>\n",
       "    <tr>\n",
       "      <th>0</th>\n",
       "      <td>1338</td>\n",
       "      <td>6/1/2015 0:00</td>\n",
       "      <td>6/1/2015 0:22</td>\n",
       "      <td>128</td>\n",
       "      <td>MacDougal St &amp; Prince St</td>\n",
       "      <td>40.727103</td>\n",
       "      <td>-74.002971</td>\n",
       "      <td>2021</td>\n",
       "      <td>W 45 St &amp; 8 Ave</td>\n",
       "      <td>40.759291</td>\n",
       "      <td>-73.988597</td>\n",
       "      <td>20721</td>\n",
       "      <td>Subscriber</td>\n",
       "      <td>1984.0</td>\n",
       "      <td>1</td>\n",
       "      <td>2015-06-01 00:00:00</td>\n",
       "    </tr>\n",
       "    <tr>\n",
       "      <th>1</th>\n",
       "      <td>290</td>\n",
       "      <td>6/1/2015 0:00</td>\n",
       "      <td>6/1/2015 0:05</td>\n",
       "      <td>438</td>\n",
       "      <td>St Marks Pl &amp; 1 Ave</td>\n",
       "      <td>40.727791</td>\n",
       "      <td>-73.985649</td>\n",
       "      <td>312</td>\n",
       "      <td>Allen St &amp; E Houston St</td>\n",
       "      <td>40.722055</td>\n",
       "      <td>-73.989111</td>\n",
       "      <td>21606</td>\n",
       "      <td>Subscriber</td>\n",
       "      <td>1997.0</td>\n",
       "      <td>1</td>\n",
       "      <td>2015-06-01 00:00:00</td>\n",
       "    </tr>\n",
       "    <tr>\n",
       "      <th>2</th>\n",
       "      <td>634</td>\n",
       "      <td>6/1/2015 0:01</td>\n",
       "      <td>6/1/2015 0:11</td>\n",
       "      <td>383</td>\n",
       "      <td>Greenwich Ave &amp; Charles St</td>\n",
       "      <td>40.735238</td>\n",
       "      <td>-74.000271</td>\n",
       "      <td>388</td>\n",
       "      <td>W 26 St &amp; 10 Ave</td>\n",
       "      <td>40.749718</td>\n",
       "      <td>-74.002950</td>\n",
       "      <td>16595</td>\n",
       "      <td>Subscriber</td>\n",
       "      <td>1993.0</td>\n",
       "      <td>1</td>\n",
       "      <td>2015-06-01 00:01:00</td>\n",
       "    </tr>\n",
       "    <tr>\n",
       "      <th>3</th>\n",
       "      <td>159</td>\n",
       "      <td>6/1/2015 0:01</td>\n",
       "      <td>6/1/2015 0:04</td>\n",
       "      <td>361</td>\n",
       "      <td>Allen St &amp; Hester St</td>\n",
       "      <td>40.716059</td>\n",
       "      <td>-73.991908</td>\n",
       "      <td>531</td>\n",
       "      <td>Forsyth St &amp; Broome St</td>\n",
       "      <td>40.718939</td>\n",
       "      <td>-73.992663</td>\n",
       "      <td>16949</td>\n",
       "      <td>Subscriber</td>\n",
       "      <td>1981.0</td>\n",
       "      <td>1</td>\n",
       "      <td>2015-06-01 00:01:00</td>\n",
       "    </tr>\n",
       "    <tr>\n",
       "      <th>4</th>\n",
       "      <td>1233</td>\n",
       "      <td>6/1/2015 0:02</td>\n",
       "      <td>6/1/2015 0:22</td>\n",
       "      <td>382</td>\n",
       "      <td>University Pl &amp; E 14 St</td>\n",
       "      <td>40.734927</td>\n",
       "      <td>-73.992005</td>\n",
       "      <td>532</td>\n",
       "      <td>S 5 Pl &amp; S 4 St</td>\n",
       "      <td>40.710451</td>\n",
       "      <td>-73.960876</td>\n",
       "      <td>17028</td>\n",
       "      <td>Customer</td>\n",
       "      <td>NaN</td>\n",
       "      <td>0</td>\n",
       "      <td>2015-06-01 00:02:00</td>\n",
       "    </tr>\n",
       "  </tbody>\n",
       "</table>\n",
       "</div>"
      ],
      "text/plain": [
       "   tripduration      starttime       stoptime  start station id  \\\n",
       "0          1338  6/1/2015 0:00  6/1/2015 0:22               128   \n",
       "1           290  6/1/2015 0:00  6/1/2015 0:05               438   \n",
       "2           634  6/1/2015 0:01  6/1/2015 0:11               383   \n",
       "3           159  6/1/2015 0:01  6/1/2015 0:04               361   \n",
       "4          1233  6/1/2015 0:02  6/1/2015 0:22               382   \n",
       "\n",
       "           start station name  start station latitude  \\\n",
       "0    MacDougal St & Prince St               40.727103   \n",
       "1         St Marks Pl & 1 Ave               40.727791   \n",
       "2  Greenwich Ave & Charles St               40.735238   \n",
       "3        Allen St & Hester St               40.716059   \n",
       "4     University Pl & E 14 St               40.734927   \n",
       "\n",
       "   start station longitude  end station id         end station name  \\\n",
       "0               -74.002971            2021          W 45 St & 8 Ave   \n",
       "1               -73.985649             312  Allen St & E Houston St   \n",
       "2               -74.000271             388         W 26 St & 10 Ave   \n",
       "3               -73.991908             531   Forsyth St & Broome St   \n",
       "4               -73.992005             532          S 5 Pl & S 4 St   \n",
       "\n",
       "   end station latitude  end station longitude  bikeid    usertype  \\\n",
       "0             40.759291             -73.988597   20721  Subscriber   \n",
       "1             40.722055             -73.989111   21606  Subscriber   \n",
       "2             40.749718             -74.002950   16595  Subscriber   \n",
       "3             40.718939             -73.992663   16949  Subscriber   \n",
       "4             40.710451             -73.960876   17028    Customer   \n",
       "\n",
       "   birth year  gender                date  \n",
       "0      1984.0       1 2015-06-01 00:00:00  \n",
       "1      1997.0       1 2015-06-01 00:00:00  \n",
       "2      1993.0       1 2015-06-01 00:01:00  \n",
       "3      1981.0       1 2015-06-01 00:01:00  \n",
       "4         NaN       0 2015-06-01 00:02:00  "
      ]
     },
     "execution_count": 7,
     "metadata": {},
     "output_type": "execute_result"
    }
   ],
   "source": [
    "# df is the dataframe where the content of the csv file is stored\n",
    "df1['date'] = pd.to_datetime(df1['starttime'])\n",
    "df1.head()"
   ]
  },
  {
   "cell_type": "code",
   "execution_count": 8,
   "metadata": {
    "collapsed": false
   },
   "outputs": [
    {
     "name": "stderr",
     "output_type": "stream",
     "text": [
      "/opt/rh/anaconda/root/envs/PUI2016_Python3/lib/python3.5/site-packages/numpy/lib/function_base.py:3403: RuntimeWarning: Invalid value encountered in median\n",
      "  RuntimeWarning)\n"
     ]
    },
    {
     "data": {
      "text/html": [
       "<div>\n",
       "<table border=\"1\" class=\"dataframe\">\n",
       "  <thead>\n",
       "    <tr style=\"text-align: right;\">\n",
       "      <th></th>\n",
       "      <th>tripduration</th>\n",
       "      <th>start station id</th>\n",
       "      <th>start station latitude</th>\n",
       "      <th>start station longitude</th>\n",
       "      <th>end station id</th>\n",
       "      <th>end station latitude</th>\n",
       "      <th>end station longitude</th>\n",
       "      <th>bikeid</th>\n",
       "      <th>birth year</th>\n",
       "      <th>gender</th>\n",
       "    </tr>\n",
       "  </thead>\n",
       "  <tbody>\n",
       "    <tr>\n",
       "      <th>count</th>\n",
       "      <td>3.205939e+06</td>\n",
       "      <td>3.205939e+06</td>\n",
       "      <td>3.205939e+06</td>\n",
       "      <td>3.205939e+06</td>\n",
       "      <td>3.205939e+06</td>\n",
       "      <td>3.205939e+06</td>\n",
       "      <td>3.205939e+06</td>\n",
       "      <td>3.205939e+06</td>\n",
       "      <td>2.674181e+06</td>\n",
       "      <td>3.205939e+06</td>\n",
       "    </tr>\n",
       "    <tr>\n",
       "      <th>mean</th>\n",
       "      <td>9.674724e+02</td>\n",
       "      <td>4.818940e+02</td>\n",
       "      <td>4.073466e+01</td>\n",
       "      <td>-7.399113e+01</td>\n",
       "      <td>4.808549e+02</td>\n",
       "      <td>4.073434e+01</td>\n",
       "      <td>-7.399122e+01</td>\n",
       "      <td>1.917488e+04</td>\n",
       "      <td>1.976707e+03</td>\n",
       "      <td>1.033359e+00</td>\n",
       "    </tr>\n",
       "    <tr>\n",
       "      <th>std</th>\n",
       "      <td>6.918156e+03</td>\n",
       "      <td>4.538632e+02</td>\n",
       "      <td>1.947244e-02</td>\n",
       "      <td>1.286754e-02</td>\n",
       "      <td>4.542648e+02</td>\n",
       "      <td>1.949034e-02</td>\n",
       "      <td>1.289033e-02</td>\n",
       "      <td>2.688411e+03</td>\n",
       "      <td>1.141686e+01</td>\n",
       "      <td>6.048311e-01</td>\n",
       "    </tr>\n",
       "    <tr>\n",
       "      <th>min</th>\n",
       "      <td>6.000000e+01</td>\n",
       "      <td>7.200000e+01</td>\n",
       "      <td>4.067891e+01</td>\n",
       "      <td>-7.401713e+01</td>\n",
       "      <td>7.200000e+01</td>\n",
       "      <td>4.067891e+01</td>\n",
       "      <td>-7.401713e+01</td>\n",
       "      <td>1.452900e+04</td>\n",
       "      <td>1.885000e+03</td>\n",
       "      <td>0.000000e+00</td>\n",
       "    </tr>\n",
       "    <tr>\n",
       "      <th>25%</th>\n",
       "      <td>4.100000e+02</td>\n",
       "      <td>3.060000e+02</td>\n",
       "      <td>4.072083e+01</td>\n",
       "      <td>-7.400150e+01</td>\n",
       "      <td>3.050000e+02</td>\n",
       "      <td>4.072066e+01</td>\n",
       "      <td>-7.400155e+01</td>\n",
       "      <td>1.685200e+04</td>\n",
       "      <td>NaN</td>\n",
       "      <td>1.000000e+00</td>\n",
       "    </tr>\n",
       "    <tr>\n",
       "      <th>50%</th>\n",
       "      <td>6.650000e+02</td>\n",
       "      <td>4.150000e+02</td>\n",
       "      <td>4.073625e+01</td>\n",
       "      <td>-7.399099e+01</td>\n",
       "      <td>4.110000e+02</td>\n",
       "      <td>4.073588e+01</td>\n",
       "      <td>-7.399099e+01</td>\n",
       "      <td>1.914500e+04</td>\n",
       "      <td>NaN</td>\n",
       "      <td>1.000000e+00</td>\n",
       "    </tr>\n",
       "    <tr>\n",
       "      <th>75%</th>\n",
       "      <td>1.107000e+03</td>\n",
       "      <td>4.940000e+02</td>\n",
       "      <td>4.075020e+01</td>\n",
       "      <td>-7.398195e+01</td>\n",
       "      <td>4.920000e+02</td>\n",
       "      <td>4.074972e+01</td>\n",
       "      <td>-7.398195e+01</td>\n",
       "      <td>2.152500e+04</td>\n",
       "      <td>NaN</td>\n",
       "      <td>1.000000e+00</td>\n",
       "    </tr>\n",
       "    <tr>\n",
       "      <th>max</th>\n",
       "      <td>5.174309e+06</td>\n",
       "      <td>3.224000e+03</td>\n",
       "      <td>4.077164e+01</td>\n",
       "      <td>-7.392989e+01</td>\n",
       "      <td>3.224000e+03</td>\n",
       "      <td>4.077706e+01</td>\n",
       "      <td>-7.392989e+01</td>\n",
       "      <td>2.435600e+04</td>\n",
       "      <td>1.999000e+03</td>\n",
       "      <td>2.000000e+00</td>\n",
       "    </tr>\n",
       "  </tbody>\n",
       "</table>\n",
       "</div>"
      ],
      "text/plain": [
       "       tripduration  start station id  start station latitude  \\\n",
       "count  3.205939e+06      3.205939e+06            3.205939e+06   \n",
       "mean   9.674724e+02      4.818940e+02            4.073466e+01   \n",
       "std    6.918156e+03      4.538632e+02            1.947244e-02   \n",
       "min    6.000000e+01      7.200000e+01            4.067891e+01   \n",
       "25%    4.100000e+02      3.060000e+02            4.072083e+01   \n",
       "50%    6.650000e+02      4.150000e+02            4.073625e+01   \n",
       "75%    1.107000e+03      4.940000e+02            4.075020e+01   \n",
       "max    5.174309e+06      3.224000e+03            4.077164e+01   \n",
       "\n",
       "       start station longitude  end station id  end station latitude  \\\n",
       "count             3.205939e+06    3.205939e+06          3.205939e+06   \n",
       "mean             -7.399113e+01    4.808549e+02          4.073434e+01   \n",
       "std               1.286754e-02    4.542648e+02          1.949034e-02   \n",
       "min              -7.401713e+01    7.200000e+01          4.067891e+01   \n",
       "25%              -7.400150e+01    3.050000e+02          4.072066e+01   \n",
       "50%              -7.399099e+01    4.110000e+02          4.073588e+01   \n",
       "75%              -7.398195e+01    4.920000e+02          4.074972e+01   \n",
       "max              -7.392989e+01    3.224000e+03          4.077706e+01   \n",
       "\n",
       "       end station longitude        bikeid    birth year        gender  \n",
       "count           3.205939e+06  3.205939e+06  2.674181e+06  3.205939e+06  \n",
       "mean           -7.399122e+01  1.917488e+04  1.976707e+03  1.033359e+00  \n",
       "std             1.289033e-02  2.688411e+03  1.141686e+01  6.048311e-01  \n",
       "min            -7.401713e+01  1.452900e+04  1.885000e+03  0.000000e+00  \n",
       "25%            -7.400155e+01  1.685200e+04           NaN  1.000000e+00  \n",
       "50%            -7.399099e+01  1.914500e+04           NaN  1.000000e+00  \n",
       "75%            -7.398195e+01  2.152500e+04           NaN  1.000000e+00  \n",
       "max            -7.392989e+01  2.435600e+04  1.999000e+03  2.000000e+00  "
      ]
     },
     "execution_count": 8,
     "metadata": {},
     "output_type": "execute_result"
    }
   ],
   "source": [
    "df1.describe()"
   ]
  },
  {
   "cell_type": "code",
   "execution_count": 9,
   "metadata": {
    "collapsed": false
   },
   "outputs": [],
   "source": [
    "#df is the dataframe where the content of the csv file is stored\n",
    "df1['age'] = 2015 - df1['birth year']\n"
   ]
  },
  {
   "cell_type": "code",
   "execution_count": 10,
   "metadata": {
    "collapsed": false
   },
   "outputs": [
    {
     "data": {
      "text/html": [
       "<div>\n",
       "<table border=\"1\" class=\"dataframe\">\n",
       "  <thead>\n",
       "    <tr style=\"text-align: right;\">\n",
       "      <th></th>\n",
       "      <th>tripduration</th>\n",
       "      <th>date</th>\n",
       "      <th>age</th>\n",
       "      <th>start station latitude</th>\n",
       "      <th>start station longitude</th>\n",
       "    </tr>\n",
       "  </thead>\n",
       "  <tbody>\n",
       "    <tr>\n",
       "      <th>0</th>\n",
       "      <td>1338</td>\n",
       "      <td>2015-06-01 00:00:00</td>\n",
       "      <td>31.0</td>\n",
       "      <td>40.727103</td>\n",
       "      <td>-74.002971</td>\n",
       "    </tr>\n",
       "    <tr>\n",
       "      <th>1</th>\n",
       "      <td>290</td>\n",
       "      <td>2015-06-01 00:00:00</td>\n",
       "      <td>18.0</td>\n",
       "      <td>40.727791</td>\n",
       "      <td>-73.985649</td>\n",
       "    </tr>\n",
       "    <tr>\n",
       "      <th>2</th>\n",
       "      <td>634</td>\n",
       "      <td>2015-06-01 00:01:00</td>\n",
       "      <td>22.0</td>\n",
       "      <td>40.735238</td>\n",
       "      <td>-74.000271</td>\n",
       "    </tr>\n",
       "    <tr>\n",
       "      <th>3</th>\n",
       "      <td>159</td>\n",
       "      <td>2015-06-01 00:01:00</td>\n",
       "      <td>34.0</td>\n",
       "      <td>40.716059</td>\n",
       "      <td>-73.991908</td>\n",
       "    </tr>\n",
       "    <tr>\n",
       "      <th>4</th>\n",
       "      <td>1233</td>\n",
       "      <td>2015-06-01 00:02:00</td>\n",
       "      <td>NaN</td>\n",
       "      <td>40.734927</td>\n",
       "      <td>-73.992005</td>\n",
       "    </tr>\n",
       "  </tbody>\n",
       "</table>\n",
       "</div>"
      ],
      "text/plain": [
       "   tripduration                date   age  start station latitude  \\\n",
       "0          1338 2015-06-01 00:00:00  31.0               40.727103   \n",
       "1           290 2015-06-01 00:00:00  18.0               40.727791   \n",
       "2           634 2015-06-01 00:01:00  22.0               40.735238   \n",
       "3           159 2015-06-01 00:01:00  34.0               40.716059   \n",
       "4          1233 2015-06-01 00:02:00   NaN               40.734927   \n",
       "\n",
       "   start station longitude  \n",
       "0               -74.002971  \n",
       "1               -73.985649  \n",
       "2               -74.000271  \n",
       "3               -73.991908  \n",
       "4               -73.992005  "
      ]
     },
     "execution_count": 10,
     "metadata": {},
     "output_type": "execute_result"
    }
   ],
   "source": [
    "#dropping some data I no longer need\n",
    "#... your code here...\n",
    "df1 = df1[['tripduration', 'date', 'age', 'start station latitude', 'start station longitude']]\n",
    "df1.head()"
   ]
  },
  {
   "cell_type": "code",
   "execution_count": 11,
   "metadata": {
    "collapsed": false
   },
   "outputs": [
    {
     "name": "stderr",
     "output_type": "stream",
     "text": [
      "/opt/rh/anaconda/root/envs/PUI2016_Python3/lib/python3.5/site-packages/numpy/lib/function_base.py:3403: RuntimeWarning: Invalid value encountered in median\n",
      "  RuntimeWarning)\n"
     ]
    },
    {
     "data": {
      "text/html": [
       "<div>\n",
       "<table border=\"1\" class=\"dataframe\">\n",
       "  <thead>\n",
       "    <tr style=\"text-align: right;\">\n",
       "      <th></th>\n",
       "      <th>tripduration</th>\n",
       "      <th>age</th>\n",
       "      <th>start station latitude</th>\n",
       "      <th>start station longitude</th>\n",
       "    </tr>\n",
       "  </thead>\n",
       "  <tbody>\n",
       "    <tr>\n",
       "      <th>count</th>\n",
       "      <td>3.205939e+06</td>\n",
       "      <td>2.674181e+06</td>\n",
       "      <td>3.205939e+06</td>\n",
       "      <td>3.205939e+06</td>\n",
       "    </tr>\n",
       "    <tr>\n",
       "      <th>mean</th>\n",
       "      <td>9.674724e+02</td>\n",
       "      <td>3.829291e+01</td>\n",
       "      <td>4.073466e+01</td>\n",
       "      <td>-7.399113e+01</td>\n",
       "    </tr>\n",
       "    <tr>\n",
       "      <th>std</th>\n",
       "      <td>6.918156e+03</td>\n",
       "      <td>1.141686e+01</td>\n",
       "      <td>1.947244e-02</td>\n",
       "      <td>1.286754e-02</td>\n",
       "    </tr>\n",
       "    <tr>\n",
       "      <th>min</th>\n",
       "      <td>6.000000e+01</td>\n",
       "      <td>1.600000e+01</td>\n",
       "      <td>4.067891e+01</td>\n",
       "      <td>-7.401713e+01</td>\n",
       "    </tr>\n",
       "    <tr>\n",
       "      <th>25%</th>\n",
       "      <td>4.100000e+02</td>\n",
       "      <td>NaN</td>\n",
       "      <td>4.072083e+01</td>\n",
       "      <td>-7.400150e+01</td>\n",
       "    </tr>\n",
       "    <tr>\n",
       "      <th>50%</th>\n",
       "      <td>6.650000e+02</td>\n",
       "      <td>NaN</td>\n",
       "      <td>4.073625e+01</td>\n",
       "      <td>-7.399099e+01</td>\n",
       "    </tr>\n",
       "    <tr>\n",
       "      <th>75%</th>\n",
       "      <td>1.107000e+03</td>\n",
       "      <td>NaN</td>\n",
       "      <td>4.075020e+01</td>\n",
       "      <td>-7.398195e+01</td>\n",
       "    </tr>\n",
       "    <tr>\n",
       "      <th>max</th>\n",
       "      <td>5.174309e+06</td>\n",
       "      <td>1.300000e+02</td>\n",
       "      <td>4.077164e+01</td>\n",
       "      <td>-7.392989e+01</td>\n",
       "    </tr>\n",
       "  </tbody>\n",
       "</table>\n",
       "</div>"
      ],
      "text/plain": [
       "       tripduration           age  start station latitude  \\\n",
       "count  3.205939e+06  2.674181e+06            3.205939e+06   \n",
       "mean   9.674724e+02  3.829291e+01            4.073466e+01   \n",
       "std    6.918156e+03  1.141686e+01            1.947244e-02   \n",
       "min    6.000000e+01  1.600000e+01            4.067891e+01   \n",
       "25%    4.100000e+02           NaN            4.072083e+01   \n",
       "50%    6.650000e+02           NaN            4.073625e+01   \n",
       "75%    1.107000e+03           NaN            4.075020e+01   \n",
       "max    5.174309e+06  1.300000e+02            4.077164e+01   \n",
       "\n",
       "       start station longitude  \n",
       "count             3.205939e+06  \n",
       "mean             -7.399113e+01  \n",
       "std               1.286754e-02  \n",
       "min              -7.401713e+01  \n",
       "25%              -7.400150e+01  \n",
       "50%              -7.399099e+01  \n",
       "75%              -7.398195e+01  \n",
       "max              -7.392989e+01  "
      ]
     },
     "execution_count": 11,
     "metadata": {},
     "output_type": "execute_result"
    }
   ],
   "source": [
    "#your df should look something like this\n",
    "# look at these data carefully... you may see someinteresting values!\n",
    "df1.describe()"
   ]
  },
  {
   "cell_type": "code",
   "execution_count": 12,
   "metadata": {
    "collapsed": false
   },
   "outputs": [
    {
     "data": {
      "text/html": [
       "<div>\n",
       "<table border=\"1\" class=\"dataframe\">\n",
       "  <thead>\n",
       "    <tr style=\"text-align: right;\">\n",
       "      <th></th>\n",
       "      <th>tripduration</th>\n",
       "      <th>age</th>\n",
       "      <th>start station latitude</th>\n",
       "      <th>start station longitude</th>\n",
       "    </tr>\n",
       "  </thead>\n",
       "  <tbody>\n",
       "    <tr>\n",
       "      <th>count</th>\n",
       "      <td>2.674181e+06</td>\n",
       "      <td>2.674181e+06</td>\n",
       "      <td>2.674181e+06</td>\n",
       "      <td>2.674181e+06</td>\n",
       "    </tr>\n",
       "    <tr>\n",
       "      <th>mean</th>\n",
       "      <td>8.004048e+02</td>\n",
       "      <td>3.829291e+01</td>\n",
       "      <td>4.073496e+01</td>\n",
       "      <td>-7.399094e+01</td>\n",
       "    </tr>\n",
       "    <tr>\n",
       "      <th>std</th>\n",
       "      <td>4.881208e+03</td>\n",
       "      <td>1.141686e+01</td>\n",
       "      <td>1.891835e-02</td>\n",
       "      <td>1.252239e-02</td>\n",
       "    </tr>\n",
       "    <tr>\n",
       "      <th>min</th>\n",
       "      <td>6.000000e+01</td>\n",
       "      <td>1.600000e+01</td>\n",
       "      <td>4.067891e+01</td>\n",
       "      <td>-7.401713e+01</td>\n",
       "    </tr>\n",
       "    <tr>\n",
       "      <th>25%</th>\n",
       "      <td>3.810000e+02</td>\n",
       "      <td>2.900000e+01</td>\n",
       "      <td>4.072185e+01</td>\n",
       "      <td>-7.399995e+01</td>\n",
       "    </tr>\n",
       "    <tr>\n",
       "      <th>50%</th>\n",
       "      <td>5.990000e+02</td>\n",
       "      <td>3.600000e+01</td>\n",
       "      <td>4.073650e+01</td>\n",
       "      <td>-7.399076e+01</td>\n",
       "    </tr>\n",
       "    <tr>\n",
       "      <th>75%</th>\n",
       "      <td>9.540000e+02</td>\n",
       "      <td>4.600000e+01</td>\n",
       "      <td>4.075002e+01</td>\n",
       "      <td>-7.398195e+01</td>\n",
       "    </tr>\n",
       "    <tr>\n",
       "      <th>max</th>\n",
       "      <td>3.611666e+06</td>\n",
       "      <td>1.300000e+02</td>\n",
       "      <td>4.077164e+01</td>\n",
       "      <td>-7.392989e+01</td>\n",
       "    </tr>\n",
       "  </tbody>\n",
       "</table>\n",
       "</div>"
      ],
      "text/plain": [
       "       tripduration           age  start station latitude  \\\n",
       "count  2.674181e+06  2.674181e+06            2.674181e+06   \n",
       "mean   8.004048e+02  3.829291e+01            4.073496e+01   \n",
       "std    4.881208e+03  1.141686e+01            1.891835e-02   \n",
       "min    6.000000e+01  1.600000e+01            4.067891e+01   \n",
       "25%    3.810000e+02  2.900000e+01            4.072185e+01   \n",
       "50%    5.990000e+02  3.600000e+01            4.073650e+01   \n",
       "75%    9.540000e+02  4.600000e+01            4.075002e+01   \n",
       "max    3.611666e+06  1.300000e+02            4.077164e+01   \n",
       "\n",
       "       start station longitude  \n",
       "count             2.674181e+06  \n",
       "mean             -7.399094e+01  \n",
       "std               1.252239e-02  \n",
       "min              -7.401713e+01  \n",
       "25%              -7.399995e+01  \n",
       "50%              -7.399076e+01  \n",
       "75%              -7.398195e+01  \n",
       "max              -7.392989e+01  "
      ]
     },
     "execution_count": 12,
     "metadata": {},
     "output_type": "execute_result"
    }
   ],
   "source": [
    "# dropping NaN values\n",
    "df1.dropna(inplace= True)\n",
    "df1.describe()"
   ]
  },
  {
   "cell_type": "code",
   "execution_count": 13,
   "metadata": {
    "collapsed": false
   },
   "outputs": [
    {
     "data": {
      "text/html": [
       "<div>\n",
       "<table border=\"1\" class=\"dataframe\">\n",
       "  <thead>\n",
       "    <tr style=\"text-align: right;\">\n",
       "      <th></th>\n",
       "      <th>tripduration</th>\n",
       "      <th>date</th>\n",
       "      <th>age</th>\n",
       "      <th>start station latitude</th>\n",
       "      <th>start station longitude</th>\n",
       "    </tr>\n",
       "  </thead>\n",
       "  <tbody>\n",
       "    <tr>\n",
       "      <th>0</th>\n",
       "      <td>1338</td>\n",
       "      <td>2015-06-01 00:00:00</td>\n",
       "      <td>31.0</td>\n",
       "      <td>40.727103</td>\n",
       "      <td>-74.002971</td>\n",
       "    </tr>\n",
       "    <tr>\n",
       "      <th>1</th>\n",
       "      <td>290</td>\n",
       "      <td>2015-06-01 00:00:00</td>\n",
       "      <td>18.0</td>\n",
       "      <td>40.727791</td>\n",
       "      <td>-73.985649</td>\n",
       "    </tr>\n",
       "    <tr>\n",
       "      <th>2</th>\n",
       "      <td>634</td>\n",
       "      <td>2015-06-01 00:01:00</td>\n",
       "      <td>22.0</td>\n",
       "      <td>40.735238</td>\n",
       "      <td>-74.000271</td>\n",
       "    </tr>\n",
       "    <tr>\n",
       "      <th>3</th>\n",
       "      <td>159</td>\n",
       "      <td>2015-06-01 00:01:00</td>\n",
       "      <td>34.0</td>\n",
       "      <td>40.716059</td>\n",
       "      <td>-73.991908</td>\n",
       "    </tr>\n",
       "    <tr>\n",
       "      <th>5</th>\n",
       "      <td>690</td>\n",
       "      <td>2015-06-01 00:03:00</td>\n",
       "      <td>39.0</td>\n",
       "      <td>40.739017</td>\n",
       "      <td>-74.002638</td>\n",
       "    </tr>\n",
       "  </tbody>\n",
       "</table>\n",
       "</div>"
      ],
      "text/plain": [
       "   tripduration                date   age  start station latitude  \\\n",
       "0          1338 2015-06-01 00:00:00  31.0               40.727103   \n",
       "1           290 2015-06-01 00:00:00  18.0               40.727791   \n",
       "2           634 2015-06-01 00:01:00  22.0               40.735238   \n",
       "3           159 2015-06-01 00:01:00  34.0               40.716059   \n",
       "5           690 2015-06-01 00:03:00  39.0               40.739017   \n",
       "\n",
       "   start station longitude  \n",
       "0               -74.002971  \n",
       "1               -73.985649  \n",
       "2               -74.000271  \n",
       "3               -73.991908  \n",
       "5               -74.002638  "
      ]
     },
     "execution_count": 13,
     "metadata": {},
     "output_type": "execute_result"
    }
   ],
   "source": [
    "df1.head()"
   ]
  },
  {
   "cell_type": "markdown",
   "metadata": {},
   "source": [
    "lets split age in 10 year bins. the dataset is very large, so i could be split in smaller bins, but I will chose 10 years in the interest of time. \n",
    "the bin size choice should be a balance between properly sample the age space, have enough counts in each bin that the statistical noise is not significant (remember that is > sqrt(N)!) and the computational requirement to computatinal facilities ratio. "
   ]
  },
  {
   "cell_type": "markdown",
   "metadata": {},
   "source": [
    "the next several steps are needed if you want to code up the KS test from scratch. that is for extra credit, so if you do not want to do it you may not need to plot split the distribution in bins and create the cumulative HOWEVER it is a great idea to do it anyways to explore your data viaually! remember Ascombe's quartet!!"
   ]
  },
  {
   "cell_type": "code",
   "execution_count": 32,
   "metadata": {
    "collapsed": false
   },
   "outputs": [
    {
     "data": {
      "text/plain": [
       "<matplotlib.text.Text at 0x7fde4bf60668>"
      ]
     },
     "execution_count": 32,
     "metadata": {},
     "output_type": "execute_result"
    },
    {
     "data": {
      "image/png": "[encoded data removed]",
      "text/plain": [
       "<matplotlib.figure.Figure at 0x7fde35088f60>"
      ]
     },
     "metadata": {},
     "output_type": "display_data"
    }
   ],
   "source": [
    "# plotting histogramswith pandas is a bitdifferent than with pylab\n",
    "# this is a VERY USEFUL syntaxfor you to knonw!\n",
    "bins = np.arange(10, 100, 2)\n",
    "ax = df1.age.groupby(pd.cut(df1.age, bins)).agg([count_nonzero]).plot(kind='bar', \n",
    "                                                                legend=False)\n",
    "ax.set_title(\"riders\")\n",
    "\n"
   ]
  },
  {
   "cell_type": "code",
   "execution_count": 25,
   "metadata": {
    "collapsed": false
   },
   "outputs": [
    {
     "data": {
      "text/plain": [
       "(array([  8.63100000e+03,   1.59980000e+04,   3.89670000e+04,\n",
       "          2.07670000e+05,   2.03319000e+05,   2.15600000e+05,\n",
       "          2.30211000e+05,   3.12645000e+05,   1.65819000e+05,\n",
       "          1.46308000e+05,   1.93590000e+05,   1.12512000e+05,\n",
       "          1.21547000e+05,   1.10576000e+05,   1.37470000e+05,\n",
       "          9.09670000e+04,   7.65360000e+04,   9.98730000e+04,\n",
       "          5.24580000e+04,   4.22410000e+04,   3.19510000e+04,\n",
       "          2.78030000e+04,   1.26940000e+04,   6.06400000e+03,\n",
       "          3.53800000e+03,   6.37000000e+03,   8.68000000e+02,\n",
       "          3.99000000e+02,   3.15000000e+02,   2.19000000e+02,\n",
       "          1.00000000e+01,   7.00000000e+00,   3.10000000e+01,\n",
       "          4.00000000e+00,   4.00000000e+00,   3.00000000e+00,\n",
       "          0.00000000e+00,   1.80000000e+01,   0.00000000e+00,\n",
       "          5.40000000e+01,   1.60000000e+01,   0.00000000e+00,\n",
       "          6.60000000e+01,   5.66000000e+02,   0.00000000e+00,\n",
       "          0.00000000e+00,   0.00000000e+00,   0.00000000e+00,\n",
       "          0.00000000e+00,   2.43000000e+02]),\n",
       " array([  16.  ,   18.28,   20.56,   22.84,   25.12,   27.4 ,   29.68,\n",
       "          31.96,   34.24,   36.52,   38.8 ,   41.08,   43.36,   45.64,\n",
       "          47.92,   50.2 ,   52.48,   54.76,   57.04,   59.32,   61.6 ,\n",
       "          63.88,   66.16,   68.44,   70.72,   73.  ,   75.28,   77.56,\n",
       "          79.84,   82.12,   84.4 ,   86.68,   88.96,   91.24,   93.52,\n",
       "          95.8 ,   98.08,  100.36,  102.64,  104.92,  107.2 ,  109.48,\n",
       "         111.76,  114.04,  116.32,  118.6 ,  120.88,  123.16,  125.44,\n",
       "         127.72,  130.  ]),\n",
       " <a list of 50 Patch objects>)"
      ]
     },
     "execution_count": 25,
     "metadata": {},
     "output_type": "execute_result"
    },
    {
     "data": {
      "image/png": "[encoded data removed]",
      "text/plain": [
       "<matplotlib.figure.Figure at 0x7fde4c21bdd8>"
      ]
     },
     "metadata": {},
     "output_type": "display_data"
    }
   ],
   "source": [
    "pl.hist(df1.age, 50)"
   ]
  },
  {
   "cell_type": "code",
   "execution_count": 73,
   "metadata": {
    "collapsed": true
   },
   "outputs": [],
   "source": [
    "from scipy import stats"
   ]
  },
  {
   "cell_type": "markdown",
   "metadata": {},
   "source": [
    "# Gaussian model"
   ]
  },
  {
   "cell_type": "markdown",
   "metadata": {},
   "source": [
    "## Null Hypothesis: The age distribution of CitiBike riders is a Gaussian model.\n",
    "# alpha = 0.05\n",
    "\n",
    "Ho: "
   ]
  },
  {
   "cell_type": "code",
   "execution_count": 26,
   "metadata": {
    "collapsed": true
   },
   "outputs": [],
   "source": []
  },
  {
   "cell_type": "code",
   "execution_count": 70,
   "metadata": {
    "collapsed": false
   },
   "outputs": [
    {
     "name": "stdout",
     "output_type": "stream",
     "text": [
      "Normal mean:  38.2929065011\n",
      "Standard deviation:  11.4168542392\n"
     ]
    },
    {
     "data": {
      "image/png": "[encoded data removed]",
      "text/plain": [
       "<matplotlib.figure.Figure at 0x7fde34ea7c88>"
      ]
     },
     "metadata": {},
     "output_type": "display_data"
    }
   ],
   "source": [
    "import scipy.stats as stats \n",
    "# Code adapted from http://stackoverflow.com/questions/20011494/plot-normal-distribution-with-matplotlib\n",
    "hg = sorted(df1.age)\n",
    "fitg = stats.norm.pdf(hg, np.mean(hg), np.std(hg)) \n",
    "\n",
    "#Ploting the histogram and Gaussian \n",
    "pl.figure(figsize=(10, 6))\n",
    "pl.hist(df1.age, bins, normed = 1)\n",
    "pl.plot( hg, fitg, linewidth = 4, color = 'red', label = 'Gaussian Cruve')\n",
    "pl.ylabel('N')\n",
    "pl.xlabel('age')\n",
    "pl.title('Normal distribution df = CitiBike riders age, N= 2.6 million', size = 15) \n",
    "pl.legend()\n",
    "print ('Normal mean: ', np.mean(df1.age))\n",
    "print ('Standard deviation: ', np.std(df1.age))"
   ]
  },
  {
   "cell_type": "code",
   "execution_count": 71,
   "metadata": {
    "collapsed": false,
    "scrolled": false
   },
   "outputs": [
    {
     "name": "stdout",
     "output_type": "stream",
     "text": [
      "Gaussian on CitiBike age distribution  KstestResult(statistic=0.10763811620463215, pvalue=0.0)\n",
      "Since the KS-Test returned pvalue as  0.0  which is less the alpha=0.05, therefore Null hypothesis is rejected\n",
      "Since D-statistic is  0.107638116205  which is higher than critical value of  0.000830432563184  for p=0.95, therefore Null is rejected\n"
     ]
    }
   ],
   "source": [
    "#Critical values for the Kolmogorov-Smirnov Test for goodness of fit\n",
    "d_table = 1.358 / (np.sqrt(np.size(df1.age))) #http://www.mathematik.uni-kl.de/~schwaar/Exercises/Tabellen/table_kolmogorov.pdf\n",
    "#KS Test\n",
    "ksg = stats.kstest(df1.age, 'norm', args=(df1.age.mean(), df1.age.std()))\n",
    "print ('Gaussian on CitiBike age distribution ', ksg)\n",
    "print ('Since the KS-Test returned pvalue as ', ksg[1], ' which is less the alpha=0.05, therefore Null hypothesis is rejected')\n",
    "print ('Since D-statistic is ', ksg[0], ' which is higher than critical value of ', d_table, ' for p=0.95, therefore Null is rejected')"
   ]
  },
  {
   "cell_type": "code",
   "execution_count": 72,
   "metadata": {
    "collapsed": false
   },
   "outputs": [
    {
     "name": "stdout",
     "output_type": "stream",
     "text": [
      "Gaussian on CitiBike age distribution  AndersonResult(statistic=41623.785302308854, critical_values=array([ 0.576,  0.656,  0.787,  0.918,  1.092]), significance_level=array([ 15. ,  10. ,   5. ,   2.5,   1. ]))\n"
     ]
    }
   ],
   "source": [
    "#Adderson Test\n",
    "adg = stats.anderson(df1.age, dist='norm')\n",
    "print ('Gaussian on CitiBike age distribution ', adg)\n"
   ]
  },
  {
   "cell_type": "markdown",
   "metadata": {},
   "source": [
    "Since AD test result returned statistic as 41623.78, which is higher that critical_value of 1.092, therefore its significance_level is less than 1% meaning the null is rejected."
   ]
  },
  {
   "cell_type": "markdown",
   "metadata": {},
   "source": [
    "# Poisson model"
   ]
  },
  {
   "cell_type": "markdown",
   "metadata": {},
   "source": [
    "## Null Hypothesis: The age distribution of CitiBike riders is a Poisson model.\n",
    "# alpha = 0.05\n",
    "\n",
    "Ho: "
   ]
  },
  {
   "cell_type": "code",
   "execution_count": 74,
   "metadata": {
    "collapsed": false
   },
   "outputs": [
    {
     "name": "stdout",
     "output_type": "stream",
     "text": [
      "Normal mean:  38.2929065011\n",
      "Standard deviation:  11.4168542392\n"
     ]
    },
    {
     "data": {
      "image/png": "[encoded data removed]",
      "text/plain": [
       "<matplotlib.figure.Figure at 0x7fde4c295b00>"
      ]
     },
     "metadata": {},
     "output_type": "display_data"
    }
   ],
   "source": [
    "hp = sorted(df1.age)\n",
    "fitp = stats.poisson.pmf(hp, np.mean(hp)) \n",
    "\n",
    "#Ploting the histogram and Poisson \n",
    "pl.figure(figsize=(10, 6))\n",
    "pl.hist(df1.age, bins, normed=True)\n",
    "pl.plot( hp, fitp, linewidth = 4, color = 'red', label = 'Poisson Cruve')\n",
    "pl.ylabel('N')\n",
    "pl.xlabel('age')\n",
    "pl.title('Poisson distribution df = CitiBike riders age, N= 2.6 million', size = 15) \n",
    "pl.legend()\n",
    "print ('Normal mean: ', np.mean(df1.age))\n",
    "print ('Standard deviation: ', np.std(df1.age))"
   ]
  },
  {
   "cell_type": "code",
   "execution_count": null,
   "metadata": {
    "collapsed": true
   },
   "outputs": [],
   "source": []
  },
  {
   "cell_type": "code",
   "execution_count": 76,
   "metadata": {
    "collapsed": false
   },
   "outputs": [
    {
     "name": "stdout",
     "output_type": "stream",
     "text": [
      "Poisson on CitiBike age distribution  KstestResult(statistic=0.57710295466578965, pvalue=0.0)\n",
      "Since the KS-Test returned pvalue as  0.0  which is less the alpha=0.05, therefore Null hypothesis is rejected\n",
      "Since D-statistic is  0.577102954666  which is higher than critical value of  0.000458633595278  for p=0.95, therefore Null is rejected\n"
     ]
    }
   ],
   "source": [
    "#Critical values for the Kolmogorov-Smirnov Test for goodness of fit\n",
    "p_table = 0.75 / (np.sqrt(np.size(df1.age))) #http://www.mathematik.uni-kl.de/~schwaar/Exercises/Tabellen/table_kolmogorov.pdf\n",
    "#KS Test\n",
    "ksp = stats.kstest(df1.age, 'poisson', args=(df1.age.mean(), df1.age.std()))\n",
    "print ('Poisson on CitiBike age distribution ', ksp)\n",
    "print ('Since the KS-Test returned pvalue as ', ksp[1], ' which is less the alpha=0.05, therefore Null hypothesis is rejected')\n",
    "print ('Since D-statistic is ', ksp[0], ' which is higher than critical value of ', p_table, ' for p=0.95, therefore Null is rejected')"
   ]
  },
  {
   "cell_type": "code",
   "execution_count": 87,
   "metadata": {
    "collapsed": false
   },
   "outputs": [
    {
     "name": "stdout",
     "output_type": "stream",
     "text": [
      "Poisson on CitiBike age distribution  Power_divergenceResult(statistic=9102598.3551637754, pvalue=0.0)\n"
     ]
    }
   ],
   "source": [
    "#Chisquare Test\n",
    "chqp = stats.chisquare(df1.age)\n",
    "print ('Poisson on CitiBike age distribution ', chqp)"
   ]
  },
  {
   "cell_type": "markdown",
   "metadata": {},
   "source": [
    "# Log model"
   ]
  },
  {
   "cell_type": "markdown",
   "metadata": {},
   "source": [
    "## Null Hypothesis: The age distribution of CitiBike riders is a Log model.\n",
    "# alpha = 0.05\n",
    "\n",
    "Ho: "
   ]
  },
  {
   "cell_type": "code",
   "execution_count": 93,
   "metadata": {
    "collapsed": false,
    "scrolled": true
   },
   "outputs": [
    {
     "name": "stdout",
     "output_type": "stream",
     "text": [
      "log mean:  1.56464305749\n",
      "Standard deviation:  0.126005763343\n"
     ]
    },
    {
     "data": {
      "image/png": "[encoded data removed]",
      "text/plain": [
       "<matplotlib.figure.Figure at 0x7fde34da4ac8>"
      ]
     },
     "metadata": {},
     "output_type": "display_data"
    }
   ],
   "source": [
    "hl = sorted(np.log10(df1.age))\n",
    "fitl = stats.logistic.pdf(hl, np.mean(hl), np.std(hl)) \n",
    "\n",
    "#Ploting the histogram and Log distribution\n",
    "pl.figure(figsize=(10, 6))\n",
    "pl.hist(np.log10(df1.age), 30, normed = 1)\n",
    "pl.plot( hl, fitl, linewidth = 4, color = 'red', label = 'Log Cruve')\n",
    "pl.ylabel('N')\n",
    "pl.xlabel('age')\n",
    "pl.title('Log distribution df = CitiBike riders age, N= 2.6 million', size = 15) \n",
    "pl.legend()\n",
    "print ('log mean: ', np.mean(np.log10(df1.age)))\n",
    "print ('Standard deviation: ', np.std(np.log10(df1.age)))"
   ]
  },
  {
   "cell_type": "code",
   "execution_count": 124,
   "metadata": {
    "collapsed": false
   },
   "outputs": [
    {
     "name": "stdout",
     "output_type": "stream",
     "text": [
      "Mean:  38.2929065011\n",
      "Standard deviation:  11.4168542392\n"
     ]
    },
    {
     "data": {
      "image/png": "[encoded data removed]",
      "text/plain": [
       "<matplotlib.figure.Figure at 0x7fde34d918d0>"
      ]
     },
     "metadata": {},
     "output_type": "display_data"
    }
   ],
   "source": [
    "hlo = sorted(df1.age)\n",
    "fitlo = stats.logistic.pdf(hlo, np.mean(hlo), np.std(hlo)) \n",
    "\n",
    "#Ploting the histogram and Log distribution \n",
    "pl.figure(figsize=(10, 6))\n",
    "pl.hist(df1.age, bins, normed = 1)\n",
    "pl.plot( hlo, fitlo, linewidth = 4, color = 'red', label = 'Log Cruve')\n",
    "pl.ylabel('N')\n",
    "pl.xlabel('age')\n",
    "pl.title('#2 Log distribution df = CitiBike riders age, N= 2.6 million', size = 15) \n",
    "pl.legend()\n",
    "print ('Mean: ', np.mean(df1.age))\n",
    "print ('Standard deviation: ', np.std(df1.age))"
   ]
  },
  {
   "cell_type": "code",
   "execution_count": 97,
   "metadata": {
    "collapsed": false
   },
   "outputs": [
    {
     "name": "stdout",
     "output_type": "stream",
     "text": [
      "Log on CitiBike age distribution  KstestResult(statistic=0.18381041404003559, pvalue=0.0)\n",
      "Since the KS-Test returned pvalue as  0.0  which is less the alpha=0.05, therefore Null hypothesis is rejected\n",
      "Since D-statistic is  0.18381041404  which is higher than critical value of for p=0.95, therefore Null is rejected\n"
     ]
    }
   ],
   "source": [
    "#KS Test\n",
    "ksl = stats.kstest(df1.age, 'logistic', args=(df1.age.mean(), df1.age.std()))\n",
    "print ('Log on CitiBike age distribution ', ksl)\n",
    "print ('Since the KS-Test returned pvalue as ', ksl[1], ' which is less the alpha=0.05, therefore Null hypothesis is rejected')\n",
    "print ('Since D-statistic is ', ksl[0], ' which is higher than critical value of for p=0.95, therefore Null is rejected')"
   ]
  },
  {
   "cell_type": "code",
   "execution_count": 98,
   "metadata": {
    "collapsed": false,
    "scrolled": true
   },
   "outputs": [
    {
     "name": "stdout",
     "output_type": "stream",
     "text": [
      "Log on CitiBike age distribution  AndersonResult(statistic=38453.292787634768, critical_values=array([ 0.426,  0.563,  0.66 ,  0.769,  0.906,  1.01 ]), significance_level=array([ 25. ,  10. ,   5. ,   2.5,   1. ,   0.5]))\n"
     ]
    }
   ],
   "source": [
    "#Adderson Test\n",
    "adl = stats.anderson(df1.age, dist='logistic')\n",
    "print ('Log on CitiBike age distribution ', adl)\n"
   ]
  },
  {
   "cell_type": "markdown",
   "metadata": {},
   "source": [
    "# Beta model.\n",
    "\n",
    "## Visually it seems the best fit but I don't know which test to use to check its goodness of fit"
   ]
  },
  {
   "cell_type": "code",
   "execution_count": null,
   "metadata": {
    "collapsed": true
   },
   "outputs": [],
   "source": []
  },
  {
   "cell_type": "code",
   "execution_count": 148,
   "metadata": {
    "collapsed": false
   },
   "outputs": [
    {
     "name": "stdout",
     "output_type": "stream",
     "text": [
      "Mean:  38.2929065011\n",
      "Standard deviation:  11.4168542392\n"
     ]
    },
    {
     "data": {
      "image/png": "[encoded data removed]",
      "text/plain": [
       "<matplotlib.figure.Figure at 0x7fde07613160>"
      ]
     },
     "metadata": {},
     "output_type": "display_data"
    }
   ],
   "source": [
    "hb = df1.age\n",
    "\n",
    "#Ploting the histogram  \n",
    "pl.figure(figsize=(10, 6))\n",
    "pl.hist(df1.age, bins, normed = 1)\n",
    "\n",
    "# find minimum and maximum of xticks, so I know where we should compute theoretical distribution\n",
    "#Adpated from http://danielhnyk.cz/fitting-distribution-histogram-using-python/\n",
    "xt = plt.xticks()[0]  \n",
    "xmin, xmax = min(xt), max(xt)  \n",
    "lnspc = np.linspace(xmin, xmax, len(hb))\n",
    "# computing the beta model\n",
    "ab,bb,cb,db = stats.beta.fit(hb)  \n",
    "fitb = stats.beta.pdf(lnspc, ab, bb,cb, db)  \n",
    "\n",
    "# Ploting the beta model\n",
    "pl.plot( lnspc, fitb, linewidth = 4, color = 'red', label = 'Beta Cruve')\n",
    "pl.ylabel('N')\n",
    "pl.xlabel('age')\n",
    "pl.title('#2 Beta distribution df = CitiBike riders age, N= 2.6 million', size = 15) \n",
    "pl.legend()\n",
    "\n",
    "print ('Mean: ', np.mean(df1.age))\n",
    "print ('Standard deviation: ', np.std(df1.age))"
   ]
  },
  {
   "cell_type": "code",
   "execution_count": 147,
   "metadata": {
    "collapsed": false
   },
   "outputs": [
    {
     "name": "stdout",
     "output_type": "stream",
     "text": [
      "Log on CitiBike age distribution  KstestResult(statistic=1.0, pvalue=0.0)\n",
      "Since the KS-Test returned pvalue as  0.0  which is less the alpha=0.05, therefore Null hypothesis is rejected\n",
      "Since D-statistic is  1.0  which is higher than critical value of for p=0.95, therefore Null is rejected\n"
     ]
    }
   ],
   "source": [
    "#KS Test... just checking\n",
    "ksb = stats.kstest(df1.age, 'beta', args=(df1.age.mean(), df1.age.std()))\n",
    "print ('Log on CitiBike age distribution ', ksb)\n",
    "print ('Since the KS-Test returned pvalue as ', ksb[1], ' which is less the alpha=0.05, therefore Null hypothesis is rejected')\n",
    "print ('Since D-statistic is ', ksb[0], ' which is higher than critical value of for p=0.95, therefore Null is rejected')"
   ]
  }
 ],
 "metadata": {
  "kernelspec": {
   "display_name": "PUI2016_Python3",
   "language": "python",
   "name": "pui2016_python3"
  },
  "language_info": {
   "codemirror_mode": {
    "name": "ipython",
    "version": 3
   },
   "file_extension": ".py",
   "mimetype": "text/x-python",
   "name": "python",
   "nbconvert_exporter": "python",
   "pygments_lexer": "ipython3",
   "version": "3.5.2"
  }
 },
 "nbformat": 4,
 "nbformat_minor": 0
}
