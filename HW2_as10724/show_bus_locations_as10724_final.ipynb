{
 "cells": [
  {
   "cell_type": "code",
   "execution_count": 95,
   "metadata": {
    "collapsed": false
   },
   "outputs": [
    {
     "name": "stdout",
     "output_type": "stream",
     "text": [
      "Bus Line : B52\n",
      "Number of Active Buses : 11\n",
      "Bus  0  is at latitude  40.699311  and longitude  -73.911253\n",
      "Bus  1  is at latitude  40.687244  and longitude  -73.941631\n",
      "Bus  2  is at latitude  40.691539  and longitude  -73.987554\n",
      "Bus  3  is at latitude  40.693685  and longitude  -73.91795\n",
      "Bus  4  is at latitude  40.686613  and longitude  -73.947149\n",
      "Bus  5  is at latitude  40.696142  and longitude  -73.989795\n",
      "Bus  6  is at latitude  40.693323  and longitude  -73.9906\n",
      "Bus  7  is at latitude  40.691054  and longitude  -73.920533\n",
      "Bus  8  is at latitude  40.699312  and longitude  -73.911252\n",
      "Bus  9  is at latitude  40.686889  and longitude  -73.975861\n",
      "Bus  10  is at latitude  40.693022  and longitude  -73.918601\n"
     ]
    }
   ],
   "source": [
    "from __future__ import print_function\n",
    "import json\n",
    "import urllib2 \n",
    "import os\n",
    "import sys\n",
    "\n",
    "My_MTA_key = \"857fded5-0cd9-4823-805b-25a91f048372\"\n",
    "MTA_KEY = sys.argv[1]\n",
    "BUS_LINE = sys.argv[2]\n",
    "\n",
    "url = \"http://bustime.mta.info/api/siri/vehicle-monitoring.json?key=%s&VehicleMonitoringDetailLevel=calls&LineRef=%s\"%(MTA_KEY, BUS_LINE)\n",
    "response = urllib2.urlopen(url)\n",
    "data = response.read().decode(\"utf-8\")\n",
    "data = json.loads(data)\n",
    "\n",
    "busline_name = data[u'Siri'][u'ServiceDelivery'][u'VehicleMonitoringDelivery'][0][u'VehicleActivity'][0][u'MonitoredVehicleJourney'][u'PublishedLineName']\n",
    "print ('Bus Line :' , busline_name)\n",
    "\n",
    "number_of_buses = data[u'Siri'][u'ServiceDelivery'][u'VehicleMonitoringDelivery'][0][u'VehicleActivity']\n",
    "print ('Number of Active Buses :', str(len(number_of_buses)))\n",
    "\n",
    "for i in range(len(number_of_buses)):\n",
    "    busline_location = data[u'Siri'][u'ServiceDelivery'][u'VehicleMonitoringDelivery'][0][u'VehicleActivity'][i][u'MonitoredVehicleJourney'][u'VehicleLocation']\n",
    "    print ('Bus ', str(i), ' is at latitude ', str(busline_location[u'Latitude']), ' and longitude ', str(busline_location[u'Longitude']))"
   ]
  }
 ],
 "metadata": {
  "kernelspec": {
   "display_name": "Python 2",
   "language": "python",
   "name": "python2"
  },
  "language_info": {
   "codemirror_mode": {
    "name": "ipython",
    "version": 2
   },
   "file_extension": ".py",
   "mimetype": "text/x-python",
   "name": "python",
   "nbconvert_exporter": "python",
   "pygments_lexer": "ipython2",
   "version": "2.7.11"
  }
 },
 "nbformat": 4,
 "nbformat_minor": 0
}
