{
 "cells": [
  {
   "cell_type": "code",
   "execution_count": 2,
   "metadata": {
    "collapsed": false
   },
   "outputs": [
    {
     "name": "stdout",
     "output_type": "stream",
     "text": [
      "/gws/open/NYCOpenData/nycopendata/data\n"
     ]
    }
   ],
   "source": [
    "from __future__ import division, print_function\n",
    "__author__ = 'Avikal Somvanshi'\n",
    "#Importing functions as used in Lab2\n",
    "import os\n",
    "import numpy as np\n",
    "from numpy.random import randn\n",
    "import pylab as pl\n",
    "\n",
    "from pandas import Series, DataFrame\n",
    "import pandas\n",
    "import pandas as pd\n",
    "\n",
    "data = os.getenv(\"DFDATA\")\n",
    "#Checking that an environmental variable DFDATA exists and that it points to the data facility \n",
    "#location /gws/open/NYCOpenData/nycopendata/data/\n",
    "print (data)"
   ]
  },
  {
   "cell_type": "code",
   "execution_count": 3,
   "metadata": {
    "collapsed": false
   },
   "outputs": [
    {
     "name": "stdout",
     "output_type": "stream",
     "text": [
      "Populating the interactive namespace from numpy and matplotlib\n"
     ]
    }
   ],
   "source": [
    "# setting up preferences as used in Lab2\n",
    "\n",
    "%pylab inline\n",
    "\n",
    "np.set_printoptions(precision=4, threshold=500)\n",
    "np.random.seed(123321)\n",
    "pl.rc('figure', figsize=(10, 6))\n",
    "pd.options.display.max_rows = 100"
   ]
  },
  {
   "cell_type": "code",
   "execution_count": 4,
   "metadata": {
    "collapsed": false
   },
   "outputs": [
    {
     "data": {
      "text/html": [
       "<div>\n",
       "<table border=\"1\" class=\"dataframe\">\n",
       "  <thead>\n",
       "    <tr style=\"text-align: right;\">\n",
       "      <th></th>\n",
       "      <th>BBL</th>\n",
       "      <th>Street Number</th>\n",
       "      <th>Street Name</th>\n",
       "      <th>Borough</th>\n",
       "      <th>Zip</th>\n",
       "      <th>Benchmarking Submission</th>\n",
       "      <th>Entry Number</th>\n",
       "      <th>Site EUI(kBtu/ft2)</th>\n",
       "      <th>Weather Normalized Source EUI(kBtu/ft2)</th>\n",
       "      <th>Indoor Water Intensity (All Water Sources)(gal/ft2)</th>\n",
       "      <th>Reported Water Method</th>\n",
       "      <th>ENERGY STAR Score</th>\n",
       "      <th>Total GHG Emissions(MtCO2e)</th>\n",
       "      <th>Property Floor Area (Buildngs and Parking)(ft2)</th>\n",
       "      <th>Primary Property Type - Self Selected</th>\n",
       "      <th>Number of Buildings</th>\n",
       "      <th>Reported BINs</th>\n",
       "    </tr>\n",
       "  </thead>\n",
       "  <tbody>\n",
       "    <tr>\n",
       "      <th>0</th>\n",
       "      <td>1000010010</td>\n",
       "      <td>1</td>\n",
       "      <td>GOVERNORS ISLAND</td>\n",
       "      <td>MANHATTAN</td>\n",
       "      <td>10004</td>\n",
       "      <td>No Record as of 08/1/13</td>\n",
       "      <td>NaN</td>\n",
       "      <td>NaN</td>\n",
       "      <td>NaN</td>\n",
       "      <td>NaN</td>\n",
       "      <td>NaN</td>\n",
       "      <td>NaN</td>\n",
       "      <td>NaN</td>\n",
       "      <td>NaN</td>\n",
       "      <td>NaN</td>\n",
       "      <td>1</td>\n",
       "      <td>NaN</td>\n",
       "    </tr>\n",
       "    <tr>\n",
       "      <th>1</th>\n",
       "      <td>1000020002</td>\n",
       "      <td>NaN</td>\n",
       "      <td>MARGINAL STREET</td>\n",
       "      <td>MANHATTAN</td>\n",
       "      <td>10004</td>\n",
       "      <td>No Record as of 08/1/13</td>\n",
       "      <td>NaN</td>\n",
       "      <td>NaN</td>\n",
       "      <td>NaN</td>\n",
       "      <td>NaN</td>\n",
       "      <td>NaN</td>\n",
       "      <td>NaN</td>\n",
       "      <td>NaN</td>\n",
       "      <td>NaN</td>\n",
       "      <td>NaN</td>\n",
       "      <td>0</td>\n",
       "      <td>NaN</td>\n",
       "    </tr>\n",
       "    <tr>\n",
       "      <th>2</th>\n",
       "      <td>1000047501</td>\n",
       "      <td>1</td>\n",
       "      <td>WATER STREET</td>\n",
       "      <td>MANHATTAN</td>\n",
       "      <td>10004</td>\n",
       "      <td>Yes</td>\n",
       "      <td>41.0</td>\n",
       "      <td>102.0</td>\n",
       "      <td>287.9</td>\n",
       "      <td>16.37</td>\n",
       "      <td>Manual</td>\n",
       "      <td>75</td>\n",
       "      <td>25932.68</td>\n",
       "      <td>2428325.0</td>\n",
       "      <td>Office</td>\n",
       "      <td>1</td>\n",
       "      <td>1000005</td>\n",
       "    </tr>\n",
       "    <tr>\n",
       "      <th>3</th>\n",
       "      <td>1000057501</td>\n",
       "      <td>125</td>\n",
       "      <td>BROAD STREET</td>\n",
       "      <td>MANHATTAN</td>\n",
       "      <td>10004</td>\n",
       "      <td>Yes</td>\n",
       "      <td>3871.0</td>\n",
       "      <td>119.6</td>\n",
       "      <td>261.5</td>\n",
       "      <td>NaN</td>\n",
       "      <td>Manual</td>\n",
       "      <td>70</td>\n",
       "      <td>11637.42</td>\n",
       "      <td>1338000.0</td>\n",
       "      <td>Office</td>\n",
       "      <td>1</td>\n",
       "      <td>1000006</td>\n",
       "    </tr>\n",
       "    <tr>\n",
       "      <th>4</th>\n",
       "      <td>1003620001</td>\n",
       "      <td>134</td>\n",
       "      <td>AVENUE D</td>\n",
       "      <td>MANHATTAN</td>\n",
       "      <td>10009</td>\n",
       "      <td>Yes</td>\n",
       "      <td>8312.0</td>\n",
       "      <td>30.3</td>\n",
       "      <td>85.7</td>\n",
       "      <td>1.57</td>\n",
       "      <td>ABS</td>\n",
       "      <td>NaN</td>\n",
       "      <td>13709.99</td>\n",
       "      <td>5207812.0</td>\n",
       "      <td>Multifamily Housing</td>\n",
       "      <td>7</td>\n",
       "      <td>1077504;1077538;1077539;1077540;1077541;107754...</td>\n",
       "    </tr>\n",
       "  </tbody>\n",
       "</table>\n",
       "</div>"
      ],
      "text/plain": [
       "          BBL Street Number       Street Name    Borough    Zip  \\\n",
       "0  1000010010             1  GOVERNORS ISLAND  MANHATTAN  10004   \n",
       "1  1000020002           NaN   MARGINAL STREET  MANHATTAN  10004   \n",
       "2  1000047501             1      WATER STREET  MANHATTAN  10004   \n",
       "3  1000057501           125      BROAD STREET  MANHATTAN  10004   \n",
       "4  1003620001           134          AVENUE D  MANHATTAN  10009   \n",
       "\n",
       "   Benchmarking Submission  Entry Number  Site EUI(kBtu/ft2)  \\\n",
       "0  No Record as of 08/1/13           NaN                 NaN   \n",
       "1  No Record as of 08/1/13           NaN                 NaN   \n",
       "2                      Yes          41.0               102.0   \n",
       "3                      Yes        3871.0               119.6   \n",
       "4                      Yes        8312.0                30.3   \n",
       "\n",
       "   Weather Normalized Source EUI(kBtu/ft2)  \\\n",
       "0                                      NaN   \n",
       "1                                      NaN   \n",
       "2                                    287.9   \n",
       "3                                    261.5   \n",
       "4                                     85.7   \n",
       "\n",
       "   Indoor Water Intensity (All Water Sources)(gal/ft2) Reported Water Method  \\\n",
       "0                                                NaN                     NaN   \n",
       "1                                                NaN                     NaN   \n",
       "2                                              16.37                  Manual   \n",
       "3                                                NaN                  Manual   \n",
       "4                                               1.57                     ABS   \n",
       "\n",
       "  ENERGY STAR Score  Total GHG Emissions(MtCO2e)  \\\n",
       "0               NaN                          NaN   \n",
       "1               NaN                          NaN   \n",
       "2                75                     25932.68   \n",
       "3                70                     11637.42   \n",
       "4               NaN                     13709.99   \n",
       "\n",
       "   Property Floor Area (Buildngs and Parking)(ft2)  \\\n",
       "0                                              NaN   \n",
       "1                                              NaN   \n",
       "2                                        2428325.0   \n",
       "3                                        1338000.0   \n",
       "4                                        5207812.0   \n",
       "\n",
       "  Primary Property Type - Self Selected  Number of Buildings  \\\n",
       "0                                   NaN                    1   \n",
       "1                                   NaN                    0   \n",
       "2                                Office                    1   \n",
       "3                                Office                    1   \n",
       "4                   Multifamily Housing                    7   \n",
       "\n",
       "                                       Reported BINs  \n",
       "0                                                NaN  \n",
       "1                                                NaN  \n",
       "2                                            1000005  \n",
       "3                                            1000006  \n",
       "4  1077504;1077538;1077539;1077540;1077541;107754...  "
      ]
     },
     "execution_count": 4,
     "metadata": {},
     "output_type": "execute_result"
    }
   ],
   "source": [
    "#Importing Energy and Water Data Disclosure for Local Law 84 (2012) from CUSP database \n",
    "# Citation: Mayor's Office of Long-Term Planning and Sustainability, 2012, \n",
    "#\"NYC OpenData: Energy and Water Data Disclosure for Local Law 84 (2012)\", http://hdl.handle.net/CUSP/10281 \n",
    "#The Center for Urban Science + Progress [Distributor] V3 [Version]\n",
    "\n",
    "df_buildings = pd.read_csv(data + \"/5gde-fmj3/1414246119/5gde-fmj3\") #reading CSV using pandas\n",
    "#Displaying the top few rows of the DF \n",
    "df_buildings.head()"
   ]
  },
  {
   "cell_type": "code",
   "execution_count": 5,
   "metadata": {
    "collapsed": false
   },
   "outputs": [],
   "source": [
    "#Removing all but 2 numerical values columns\n",
    "df_buildings.drop(['Indoor Water Intensity (All Water Sources)(gal/ft2)', 'BBL', 'Street Number', 'Street Name', 'Borough', 'Zip', 'Benchmarking Submission', 'Entry Number', 'Site EUI(kBtu/ft2)', 'Weather Normalized Source EUI(kBtu/ft2)', 'Reported Water Method', 'ENERGY STAR Score', 'Primary Property Type - Self Selected', 'Number of Buildings', 'Reported BINs'], axis=1, inplace=True)"
   ]
  },
  {
   "cell_type": "code",
   "execution_count": 6,
   "metadata": {
    "collapsed": false
   },
   "outputs": [
    {
     "data": {
      "text/html": [
       "<div>\n",
       "<table border=\"1\" class=\"dataframe\">\n",
       "  <thead>\n",
       "    <tr style=\"text-align: right;\">\n",
       "      <th></th>\n",
       "      <th>Total GHG Emissions(MtCO2e)</th>\n",
       "      <th>Property Floor Area (Buildngs and Parking)(ft2)</th>\n",
       "    </tr>\n",
       "  </thead>\n",
       "  <tbody>\n",
       "    <tr>\n",
       "      <th>0</th>\n",
       "      <td>NaN</td>\n",
       "      <td>NaN</td>\n",
       "    </tr>\n",
       "    <tr>\n",
       "      <th>1</th>\n",
       "      <td>NaN</td>\n",
       "      <td>NaN</td>\n",
       "    </tr>\n",
       "    <tr>\n",
       "      <th>2</th>\n",
       "      <td>25932.68</td>\n",
       "      <td>2428325.0</td>\n",
       "    </tr>\n",
       "    <tr>\n",
       "      <th>3</th>\n",
       "      <td>11637.42</td>\n",
       "      <td>1338000.0</td>\n",
       "    </tr>\n",
       "    <tr>\n",
       "      <th>4</th>\n",
       "      <td>13709.99</td>\n",
       "      <td>5207812.0</td>\n",
       "    </tr>\n",
       "  </tbody>\n",
       "</table>\n",
       "</div>"
      ],
      "text/plain": [
       "   Total GHG Emissions(MtCO2e)  \\\n",
       "0                          NaN   \n",
       "1                          NaN   \n",
       "2                     25932.68   \n",
       "3                     11637.42   \n",
       "4                     13709.99   \n",
       "\n",
       "   Property Floor Area (Buildngs and Parking)(ft2)  \n",
       "0                                              NaN  \n",
       "1                                              NaN  \n",
       "2                                        2428325.0  \n",
       "3                                        1338000.0  \n",
       "4                                        5207812.0  "
      ]
     },
     "execution_count": 6,
     "metadata": {},
     "output_type": "execute_result"
    }
   ],
   "source": [
    "#Displaying the reducted dataframe\n",
    "df_buildings.head()"
   ]
  },
  {
   "cell_type": "code",
   "execution_count": 16,
   "metadata": {
    "collapsed": false
   },
   "outputs": [
    {
     "data": {
      "text/html": [
       "<div>\n",
       "<table border=\"1\" class=\"dataframe\">\n",
       "  <thead>\n",
       "    <tr style=\"text-align: right;\">\n",
       "      <th></th>\n",
       "      <th>y</th>\n",
       "      <th>x</th>\n",
       "    </tr>\n",
       "  </thead>\n",
       "  <tbody>\n",
       "    <tr>\n",
       "      <th>0</th>\n",
       "      <td>NaN</td>\n",
       "      <td>NaN</td>\n",
       "    </tr>\n",
       "    <tr>\n",
       "      <th>1</th>\n",
       "      <td>NaN</td>\n",
       "      <td>NaN</td>\n",
       "    </tr>\n",
       "    <tr>\n",
       "      <th>2</th>\n",
       "      <td>25932.68</td>\n",
       "      <td>2428325.0</td>\n",
       "    </tr>\n",
       "    <tr>\n",
       "      <th>3</th>\n",
       "      <td>11637.42</td>\n",
       "      <td>1338000.0</td>\n",
       "    </tr>\n",
       "    <tr>\n",
       "      <th>4</th>\n",
       "      <td>13709.99</td>\n",
       "      <td>5207812.0</td>\n",
       "    </tr>\n",
       "  </tbody>\n",
       "</table>\n",
       "</div>"
      ],
      "text/plain": [
       "          y          x\n",
       "0       NaN        NaN\n",
       "1       NaN        NaN\n",
       "2  25932.68  2428325.0\n",
       "3  11637.42  1338000.0\n",
       "4  13709.99  5207812.0"
      ]
     },
     "execution_count": 16,
     "metadata": {},
     "output_type": "execute_result"
    }
   ],
   "source": [
    "# Renaming the columns for sake of simplicity\n",
    "df_buildings.columns=[\"y\",\"x\"]\n",
    "df_buildings.head()"
   ]
  },
  {
   "cell_type": "code",
   "execution_count": 15,
   "metadata": {
    "collapsed": false
   },
   "outputs": [
    {
     "data": {
      "image/png": "[encoded data removed]",
      "text/plain": [
       "<matplotlib.figure.Figure at 0x7fefbb8fa450>"
      ]
     },
     "metadata": {},
     "output_type": "display_data"
    },
    {
     "name": "stdout",
     "output_type": "stream",
     "text": [
      "Figure 1: Total GHG emission v property floor area\n",
      "Source: Mayor's Office of Long-Term Planning and Sustainability, 2012, 'NYC OpenData: Energy and Water Data Disclosure for Local Law 84 (2012)', http://hdl.handle.net/CUSP/10281 The Center for Urban Science + Progress [Distributor] V3 [Version]\n"
     ]
    }
   ],
   "source": [
    "#Plotting the columns one against the other in a scatter plot using the dataframe plot method\n",
    "\n",
    "plt.scatter((df_buildings.x / 1000),(df_buildings.y / 1000))\n",
    "pl.ylabel('Total GHG Emissions(1000 MtCO2e)')\n",
    "pl.xlabel('Property Floor Area (Buildngs and Parking)(1000 ft2)')\n",
    "pl.title('Building GHG Emission Intensity', size = 15)  \n",
    "plt.show()\n",
    "print ('Figure 1: Total GHG emission v property floor area')\n",
    "print (\"Source: Mayor's Office of Long-Term Planning and Sustainability, 2012, 'NYC OpenData: Energy and Water Data Disclosure for Local Law 84 (2012)', http://hdl.handle.net/CUSP/10281 The Center for Urban Science + Progress [Distributor] V3 [Version]\")"
   ]
  },
  {
   "cell_type": "code",
   "execution_count": null,
   "metadata": {
    "collapsed": true
   },
   "outputs": [],
   "source": []
  }
 ],
 "metadata": {
  "kernelspec": {
   "display_name": "PUI2016_Python2",
   "language": "python",
   "name": "pui2016_python2"
  },
  "language_info": {
   "codemirror_mode": {
    "name": "ipython",
    "version": 2
   },
   "file_extension": ".py",
   "mimetype": "text/x-python",
   "name": "python",
   "nbconvert_exporter": "python",
   "pygments_lexer": "ipython2",
   "version": "2.7.12"
  }
 },
 "nbformat": 4,
 "nbformat_minor": 0
}
