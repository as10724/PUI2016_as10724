{
 "cells": [
  {
   "cell_type": "code",
   "execution_count": 17,
   "metadata": {
    "collapsed": false
   },
   "outputs": [],
   "source": [
    "from __future__ import print_function\n",
    "import json\n",
    "import urllib2 \n",
    "import os\n",
    "import sys\n",
    "import csv\n",
    "\n",
    "\n",
    "My_MTA_key = \"857fded5-0cd9-4823-805b-25a91f048372\"\n",
    "MTA_KEY = sys.argv[1]\n",
    "BUS_LINE = sys.argv[2]\n",
    "#CSV_name = sys.argv[3]\n",
    "\n",
    "url = \"http://bustime.mta.info/api/siri/vehicle-monitoring.json?key=857fded5-0cd9-4823-805b-25a91f048372&VehicleMonitoringDetailLevel=calls&LineRef=B52\"\n",
    "#%(MTA_KEY, BUS_LINE)\n",
    "response = urllib2.urlopen(url)\n",
    "data = response.read().decode(\"utf-8\")\n",
    "data = json.loads(data)\n",
    "\n",
    "busline_name = data[u'Siri'][u'ServiceDelivery'][u'VehicleMonitoringDelivery'][0][u'VehicleActivity'][0][u'MonitoredVehicleJourney'][u'PublishedLineName']\n",
    "\n",
    "number_of_buses = data[u'Siri'][u'ServiceDelivery'][u'VehicleMonitoringDelivery'][0][u'VehicleActivity']\n",
    "w = csv.writer(open('CSV_name', 'wb+'))\n",
    "w.writerow(['Latitude' , 'Longitude' , 'Stop Name' , 'Stop Status'])\n",
    "        \n",
    "for i in range(len(number_of_buses)):\n",
    "    busline_location = data[u'Siri'][u'ServiceDelivery'][u'VehicleMonitoringDelivery'][0][u'VehicleActivity'][i][u'MonitoredVehicleJourney'][u'VehicleLocation']\n",
    "    busline_onward = data[u'Siri'][u'ServiceDelivery'][u'VehicleMonitoringDelivery'][0][u'VehicleActivity'][i][u'MonitoredVehicleJourney'][u'OnwardCalls']\n",
    "    if not bool(busline_onward):\n",
    "        stop = 'N/A'\n",
    "        status = 'N/A'\n",
    "    else:\n",
    "        stop = data[u'Siri'][u'ServiceDelivery'][u'VehicleMonitoringDelivery'][0][u'VehicleActivity'][i][u'MonitoredVehicleJourney'][u'OnwardCalls'][u'OnwardCall'][0][u'StopPointName']\n",
    "        status = data[u'Siri'][u'ServiceDelivery'][u'VehicleMonitoringDelivery'][0][u'VehicleActivity'][i][u'MonitoredVehicleJourney'][u'OnwardCalls'][u'OnwardCall'][0][u'Extensions'][u'Distances'][u'PresentableDistance']\n",
    "        w.writerow([busline_location['Latitude'], busline_location['Longitude'], stop, status])\n",
    "    \n"
   ]
  },
  {
   "cell_type": "code",
   "execution_count": null,
   "metadata": {
    "collapsed": true
   },
   "outputs": [],
   "source": []
  }
 ],
 "metadata": {
  "kernelspec": {
   "display_name": "Python 2",
   "language": "python",
   "name": "python2"
  },
  "language_info": {
   "codemirror_mode": {
    "name": "ipython",
    "version": 2
   },
   "file_extension": ".py",
   "mimetype": "text/x-python",
   "name": "python",
   "nbconvert_exporter": "python",
   "pygments_lexer": "ipython2",
   "version": "2.7.11"
  }
 },
 "nbformat": 4,
 "nbformat_minor": 0
}
